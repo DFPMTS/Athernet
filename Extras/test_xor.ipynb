{
 "cells": [
  {
   "cell_type": "code",
   "execution_count": 5,
   "metadata": {},
   "outputs": [],
   "source": [
    "import numpy as np\n",
    "\n",
    "f = open(\"INPUT.txt\")\n",
    "a_str = f.read()\n",
    "text= []\n",
    "for i in range(len(a_str)):\n",
    "    text.append(int(a_str[i]))"
   ]
  },
  {
   "cell_type": "code",
   "execution_count": 6,
   "metadata": {},
   "outputs": [],
   "source": [
    "length = []\n",
    "for i in range(16):\n",
    "    if len(a_str) & 2**i:\n",
    "        length.append(1)\n",
    "    else :\n",
    "        length.append(0)\n",
    "\n",
    "packet_len = (len(length)+len(text)-1)//100+1\n",
    "\n",
    "mat = []\n",
    "a = []\n",
    "for i in range(len(length)):\n",
    "    a.append(length[i])\n",
    "    if len(a) == packet_len:\n",
    "        mat.append(a)\n",
    "        a=[]\n",
    "for i in range(len(text)):\n",
    "    a.append(text[i])\n",
    "    if len(a) == packet_len:\n",
    "        mat.append(a)\n",
    "        a=[]\n",
    "if len(a) != 0:\n",
    "    for i in range(len(a),packet_len):\n",
    "        a.append(0)\n",
    "    mat.append(a)\n",
    "\n",
    "def xor_result(a):\n",
    "    res = mat[a[0]].copy()\n",
    "    for i in range(1,len(a)):\n",
    "        for j in range(1,len(mat[0])):\n",
    "            res[j] ^= mat[a[i]][j]\n",
    "    print(res)\n",
    "\n",
    "\n"
   ]
  },
  {
   "cell_type": "code",
   "execution_count": 10,
   "metadata": {},
   "outputs": [
    {
     "name": "stdout",
     "output_type": "stream",
     "text": [
      "[0, 0, 0, 0, 1, 0, 1, 0, 1, 0, 1, 1, 1, 0, 0, 1, 0, 0, 1, 0, 0, 1, 0, 0, 0, 0, 1, 1, 1, 0, 1, 1, 0, 0, 0, 0, 1, 1, 0, 1, 0, 0, 0, 0, 1, 1, 1, 1, 1, 0, 0, 0, 1, 0, 1, 0, 0, 1, 1, 0, 0, 1, 0, 1, 1, 0, 1, 0, 1, 1, 1, 1, 1, 1, 0, 0, 1, 0, 1, 0, 1, 1, 0, 1, 1, 1, 0, 0, 1, 0, 0, 0, 0, 0, 1, 0, 0, 1, 0, 0, 1]\n"
     ]
    }
   ],
   "source": [
    "xor_result([0,94,97,98,99]) "
   ]
  }
 ],
 "metadata": {
  "kernelspec": {
   "display_name": "Python 3",
   "language": "python",
   "name": "python3"
  },
  "language_info": {
   "codemirror_mode": {
    "name": "ipython",
    "version": 3
   },
   "file_extension": ".py",
   "mimetype": "text/x-python",
   "name": "python",
   "nbconvert_exporter": "python",
   "pygments_lexer": "ipython3",
   "version": "3.12.0"
  }
 },
 "nbformat": 4,
 "nbformat_minor": 2
}
