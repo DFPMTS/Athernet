{
 "cells": [
  {
   "cell_type": "code",
   "execution_count": 17,
   "metadata": {},
   "outputs": [],
   "source": [
    "import numpy as np\n",
    "\n",
    "# full = 0\n",
    "\n",
    "# for i in range(100):\n",
    "#     M = np.random.random((60,60))\n",
    "#     if np.linalg.matrix_rank(M) == 60:\n",
    "#         full += 1\n",
    "\n",
    "# print(full/100)\n",
    "\n"
   ]
  },
  {
   "cell_type": "code",
   "execution_count": 108,
   "metadata": {},
   "outputs": [],
   "source": [
    "def is_full_rank(M, detail=False):\n",
    "    row,col = M.shape \n",
    "    for i in range(col):\n",
    "        for j in range(i,row):\n",
    "            if M[j][i]:                \n",
    "                for k in range(j+1,row):\n",
    "                    if M[k][i]:\n",
    "                        M[k] ^= M[j]                \n",
    "                M[[i,j]] = M[[j,i]]                \n",
    "                if detail:\n",
    "                    print(M)\n",
    "                break                \n",
    "        else:\n",
    "            return False\n",
    "    return True"
   ]
  },
  {
   "cell_type": "code",
   "execution_count": 96,
   "metadata": {},
   "outputs": [
    {
     "data": {
      "text/plain": [
       "[<matplotlib.lines.Line2D at 0x294c2ae4e00>]"
      ]
     },
     "execution_count": 96,
     "metadata": {},
     "output_type": "execute_result"
    },
    {
     "data": {
      "image/png": "[encoded data removed]",
      "text/plain": [
       "<Figure size 640x480 with 1 Axes>"
      ]
     },
     "metadata": {},
     "output_type": "display_data"
    }
   ],
   "source": [
    "import matplotlib.pyplot as plt\n",
    "\n",
    "yf = []\n",
    "xf = []\n",
    "N = 1000\n",
    "for k in range(2,30):\n",
    "    full = 0\n",
    "    for i in range(N):\n",
    "        x = np.random.randint(0,2,size=(k+10,k))\n",
    "        if is_full_rank(x):\n",
    "            full+=1\n",
    "    xf.append(k)\n",
    "    yf.append(full/N)\n",
    "\n",
    "plt.ylim(0.95,1.05)\n",
    "plt.plot(xf,yf)\n"
   ]
  },
  {
   "cell_type": "code",
   "execution_count": 178,
   "metadata": {},
   "outputs": [
    {
     "data": {
      "text/plain": [
       "0.99934"
      ]
     },
     "execution_count": 178,
     "metadata": {},
     "output_type": "execute_result"
    }
   ],
   "source": [
    "def get_prob(row, col):\n",
    "    N = 100000\n",
    "    full = 0\n",
    "    \n",
    "    for num in range(N):\n",
    "        M = np.zeros((row,col),dtype=int)\n",
    "        for i in range(row):\n",
    "            start = np.random.randint(0,col)\n",
    "            M[i][start]=1\n",
    "            for k in range(1,20):\n",
    "                id = start + k\n",
    "                if id >= col:\n",
    "                    id -= col\n",
    "                if np.random.random() < 0.64:\n",
    "                    M[i][id] = 1\n",
    "        if is_full_rank(M):\n",
    "            full+=1\n",
    "    return full/N\n",
    "get_prob(125,100)"
   ]
  }
 ],
 "metadata": {
  "kernelspec": {
   "display_name": "Python 3",
   "language": "python",
   "name": "python3"
  },
  "language_info": {
   "codemirror_mode": {
    "name": "ipython",
    "version": 3
   },
   "file_extension": ".py",
   "mimetype": "text/x-python",
   "name": "python",
   "nbconvert_exporter": "python",
   "pygments_lexer": "ipython3",
   "version": "3.12.0"
  }
 },
 "nbformat": 4,
 "nbformat_minor": 2
}
